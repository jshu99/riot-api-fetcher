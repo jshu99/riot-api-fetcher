{
 "cells": [
  {
   "cell_type": "code",
   "execution_count": 19,
   "metadata": {},
   "outputs": [],
   "source": [
    "api_key = \"RGAPI-c65c5fef-59e8-44dd-8aca-9094e92c8054\""
   ]
  },
  {
   "cell_type": "code",
   "execution_count": null,
   "metadata": {},
   "outputs": [],
   "source": []
  },
  {
   "cell_type": "code",
   "execution_count": 83,
   "metadata": {},
   "outputs": [],
   "source": [
    "api_url = \"https://americas.api.riotgames.com/riot/account/v1/accounts/by-riot-id/wtf%20are%20deez/na1\"\n",
    "import requests\n",
    "requests.get(api_url)\n",
    "api_url = api_url + '?api_key=' + api_key\n",
    "resp = requests.get(api_url)\n",
    "player_info = resp.json()"
   ]
  },
  {
   "cell_type": "code",
   "execution_count": 68,
   "metadata": {},
   "outputs": [],
   "source": [
    "player_account_id = player_info['puuid']"
   ]
  },
  {
   "cell_type": "code",
   "execution_count": null,
   "metadata": {},
   "outputs": [],
   "source": [
    "player_info"
   ]
  },
  {
   "cell_type": "code",
   "execution_count": null,
   "metadata": {},
   "outputs": [],
   "source": [
    "puuid = resp.json()[\"puuid\"]\n",
    "puuid_url = f\"https://na1.api.riotgames.com/lol/summoner/v4/summoners/by-puuid/{puuid}\"\n",
    "headers = {\n",
    "    \"X-Riot-Token\": api_key\n",
    "}\n",
    "summoner_resp = requests.get(puuid_url, headers=headers)\n",
    "summoner_info = summoner_resp.json()\n",
    "summoner_info"
   ]
  },
  {
   "cell_type": "code",
   "execution_count": null,
   "metadata": {},
   "outputs": [],
   "source": [
    "puuid_url"
   ]
  },
  {
   "cell_type": "code",
   "execution_count": 86,
   "metadata": {},
   "outputs": [],
   "source": [
    "player_account_id = summoner_info[\"accountId\"]"
   ]
  },
  {
   "cell_type": "code",
   "execution_count": null,
   "metadata": {},
   "outputs": [],
   "source": [
    "player_account_id"
   ]
  },
  {
   "cell_type": "code",
   "execution_count": 114,
   "metadata": {},
   "outputs": [],
   "source": [
    "api_url = \"https://americas.api.riotgames.com/lol/match/v5/matches/by-puuid/b5GHRyWSrJN4uqUb6vknh9dWfva2f_NNyHwWpDlTiyh9lmrMT2kQvT30o8FKFpuilpBIZeXPWTmpqQ/ids?start=0&count=20\""
   ]
  },
  {
   "cell_type": "code",
   "execution_count": 115,
   "metadata": {},
   "outputs": [],
   "source": [
    "api_url = api_url + \"&api_key=\" + api_key"
   ]
  },
  {
   "cell_type": "code",
   "execution_count": null,
   "metadata": {},
   "outputs": [],
   "source": [
    "resp = requests.get(api_url)"
   ]
  },
  {
   "cell_type": "code",
   "execution_count": null,
   "metadata": {},
   "outputs": [],
   "source": [
    "matches = resp.json()\n",
    "matches"
   ]
  },
  {
   "cell_type": "code",
   "execution_count": 118,
   "metadata": {},
   "outputs": [],
   "source": [
    "api_url = \"https://americas.api.riotgames.com/lol/match/v5/matches/NA1_5298733726\""
   ]
  },
  {
   "cell_type": "code",
   "execution_count": null,
   "metadata": {},
   "outputs": [],
   "source": [
    "api_url = api_url + \"?api_key=\" + api_key\n",
    "api_url"
   ]
  },
  {
   "cell_type": "code",
   "execution_count": 120,
   "metadata": {},
   "outputs": [],
   "source": [
    "resp = requests.get(api_url)\n",
    "match_data = resp.json()"
   ]
  },
  {
   "cell_type": "code",
   "execution_count": null,
   "metadata": {},
   "outputs": [],
   "source": [
    "part_index = match_data['metadata']['participants'].index(puuid)"
   ]
  },
  {
   "cell_type": "code",
   "execution_count": null,
   "metadata": {},
   "outputs": [],
   "source": [
    "match_data['metadata']"
   ]
  },
  {
   "cell_type": "code",
   "execution_count": null,
   "metadata": {},
   "outputs": [],
   "source": [
    "match_data['info']['participants'][part_index]"
   ]
  },
  {
   "cell_type": "code",
   "execution_count": null,
   "metadata": {},
   "outputs": [],
   "source": [
    "api_url"
   ]
  },
  {
   "cell_type": "code",
   "execution_count": 134,
   "metadata": {},
   "outputs": [],
   "source": [
    "def get_match_data(region, match_id, api_key):\n",
    "    api_url = (\n",
    "        \"https://\" +\n",
    "        region +  \n",
    "        \".api.riotgames.com/lol/match/v5/matches/\" +\n",
    "        match_id + \n",
    "        \"?api_key=\" +\n",
    "        api_key\n",
    "    )\n",
    "    \n",
    "    res = requests.get(api_url)\n",
    "    data = res.json()\n",
    "    return data"
   ]
  },
  {
   "cell_type": "code",
   "execution_count": 136,
   "metadata": {},
   "outputs": [],
   "source": [
    "def did_win(puuid, match_id):\n",
    "    part_index = match_data['metadata']['participants'].index(puuid)\n",
    "    return match_data['info']['participants'][part_index]['win']"
   ]
  },
  {
   "cell_type": "code",
   "execution_count": 132,
   "metadata": {},
   "outputs": [],
   "source": [
    "region = \"americas\"\n",
    "match_id = \"NA1_5298733726\"\n",
    "api_key = \"RGAPI-c65c5fef-59e8-44dd-8aca-9094e92c8054\""
   ]
  },
  {
   "cell_type": "code",
   "execution_count": null,
   "metadata": {},
   "outputs": [],
   "source": [
    "get_match_data(region, match_id, api_key)"
   ]
  },
  {
   "cell_type": "code",
   "execution_count": null,
   "metadata": {},
   "outputs": [],
   "source": [
    "did_win(puuid, match_id)"
   ]
  }
 ],
 "metadata": {
  "kernelspec": {
   "display_name": "Python 3",
   "language": "python",
   "name": "python3"
  },
  "language_info": {
   "codemirror_mode": {
    "name": "ipython",
    "version": 3
   },
   "file_extension": ".py",
   "mimetype": "text/x-python",
   "name": "python",
   "nbconvert_exporter": "python",
   "pygments_lexer": "ipython3",
   "version": "3.11.13"
  }
 },
 "nbformat": 4,
 "nbformat_minor": 2
}
